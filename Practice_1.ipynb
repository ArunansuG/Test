{
 "cells": [
  {
   "cell_type": "markdown",
   "metadata": {},
   "source": [
    "# Basics"
   ]
  },
  {
   "cell_type": "code",
   "execution_count": 3,
   "metadata": {
    "collapsed": true
   },
   "outputs": [],
   "source": [
    "import pandas as pd\n",
    "import numpy as np\n",
    "import timeit"
   ]
  },
  {
   "cell_type": "code",
   "execution_count": 2,
   "metadata": {},
   "outputs": [
    {
     "data": {
      "text/html": [
       "<div>\n",
       "<style>\n",
       "    .dataframe thead tr:only-child th {\n",
       "        text-align: right;\n",
       "    }\n",
       "\n",
       "    .dataframe thead th {\n",
       "        text-align: left;\n",
       "    }\n",
       "\n",
       "    .dataframe tbody tr th {\n",
       "        vertical-align: top;\n",
       "    }\n",
       "</style>\n",
       "<table border=\"1\" class=\"dataframe\">\n",
       "  <thead>\n",
       "    <tr style=\"text-align: right;\">\n",
       "      <th></th>\n",
       "      <th>Class</th>\n",
       "      <th>Name</th>\n",
       "    </tr>\n",
       "  </thead>\n",
       "  <tbody>\n",
       "    <tr>\n",
       "      <th>0</th>\n",
       "      <td>4</td>\n",
       "      <td>RD</td>\n",
       "    </tr>\n",
       "    <tr>\n",
       "      <th>1</th>\n",
       "      <td>12</td>\n",
       "      <td>AG</td>\n",
       "    </tr>\n",
       "    <tr>\n",
       "      <th>2</th>\n",
       "      <td>4</td>\n",
       "      <td>Mimi</td>\n",
       "    </tr>\n",
       "  </tbody>\n",
       "</table>\n",
       "</div>"
      ],
      "text/plain": [
       "   Class  Name\n",
       "0      4    RD\n",
       "1     12    AG\n",
       "2      4  Mimi"
      ]
     },
     "execution_count": 2,
     "metadata": {},
     "output_type": "execute_result"
    }
   ],
   "source": [
    "df = pd.DataFrame({'Name':['RD','AG','Mimi'],'Class':[4,12,4]})\n",
    "df"
   ]
  },
  {
   "cell_type": "code",
   "execution_count": 3,
   "metadata": {},
   "outputs": [
    {
     "data": {
      "text/html": [
       "<div>\n",
       "<style>\n",
       "    .dataframe thead tr:only-child th {\n",
       "        text-align: right;\n",
       "    }\n",
       "\n",
       "    .dataframe thead th {\n",
       "        text-align: left;\n",
       "    }\n",
       "\n",
       "    .dataframe tbody tr th {\n",
       "        vertical-align: top;\n",
       "    }\n",
       "</style>\n",
       "<table border=\"1\" class=\"dataframe\">\n",
       "  <thead>\n",
       "    <tr style=\"text-align: right;\">\n",
       "      <th></th>\n",
       "      <th>class</th>\n",
       "      <th>name</th>\n",
       "    </tr>\n",
       "  </thead>\n",
       "  <tbody>\n",
       "    <tr>\n",
       "      <th>0</th>\n",
       "      <td>4</td>\n",
       "      <td>RD</td>\n",
       "    </tr>\n",
       "    <tr>\n",
       "      <th>1</th>\n",
       "      <td>12</td>\n",
       "      <td>AG</td>\n",
       "    </tr>\n",
       "    <tr>\n",
       "      <th>2</th>\n",
       "      <td>4</td>\n",
       "      <td>Mimi</td>\n",
       "    </tr>\n",
       "  </tbody>\n",
       "</table>\n",
       "</div>"
      ],
      "text/plain": [
       "   class  name\n",
       "0      4    RD\n",
       "1     12    AG\n",
       "2      4  Mimi"
      ]
     },
     "execution_count": 3,
     "metadata": {},
     "output_type": "execute_result"
    }
   ],
   "source": [
    "df.rename(columns={'Name':'name','Class':'class'},inplace=True)\n",
    "df"
   ]
  },
  {
   "cell_type": "code",
   "execution_count": 4,
   "metadata": {},
   "outputs": [
    {
     "name": "stdout",
     "output_type": "stream",
     "text": [
      "2\n",
      "True\n"
     ]
    }
   ],
   "source": [
    "list=[1,2,'ur',True]\n",
    "list.append('e')\n",
    "list\n",
    "for i in range(1,4,2):\n",
    "    print(list[i])"
   ]
  },
  {
   "cell_type": "code",
   "execution_count": 5,
   "metadata": {},
   "outputs": [
    {
     "name": "stdout",
     "output_type": "stream",
     "text": [
      "The Zen of Python, by Tim Peters\n",
      "\n",
      "Beautiful is better than ugly.\n",
      "Explicit is better than implicit.\n",
      "Simple is better than complex.\n",
      "Complex is better than complicated.\n",
      "Flat is better than nested.\n",
      "Sparse is better than dense.\n",
      "Readability counts.\n",
      "Special cases aren't special enough to break the rules.\n",
      "Although practicality beats purity.\n",
      "Errors should never pass silently.\n",
      "Unless explicitly silenced.\n",
      "In the face of ambiguity, refuse the temptation to guess.\n",
      "There should be one-- and preferably only one --obvious way to do it.\n",
      "Although that way may not be obvious at first unless you're Dutch.\n",
      "Now is better than never.\n",
      "Although never is often better than *right* now.\n",
      "If the implementation is hard to explain, it's a bad idea.\n",
      "If the implementation is easy to explain, it may be a good idea.\n",
      "Namespaces are one honking great idea -- let's do more of those!\n"
     ]
    }
   ],
   "source": [
    "import this"
   ]
  },
  {
   "cell_type": "code",
   "execution_count": 6,
   "metadata": {},
   "outputs": [
    {
     "name": "stdout",
     "output_type": "stream",
     "text": [
      "abd\n",
      "india is world's best country\n",
      "india is world's best country\n",
      "india is world's best country. Her reply was \"so what can i do?\".\n"
     ]
    }
   ],
   "source": [
    "x='abd'\n",
    "x1=\"india is world's best country\"\n",
    "x2='india is world\\'s best country'\n",
    "x3='''india is world's best country. Her reply was \"so what can i do?\".'''\n",
    "print(x)\n",
    "print(x1)\n",
    "print(x2)\n",
    "print(x3)"
   ]
  },
  {
   "cell_type": "code",
   "execution_count": 7,
   "metadata": {},
   "outputs": [
    {
     "name": "stdout",
     "output_type": "stream",
     "text": [
      " Ritz Dey \n",
      " RITZ DEY \n",
      " ritz dey \n",
      "Ritz dey \n",
      " Ritz dey\n",
      "Ritz dey\n"
     ]
    }
   ],
   "source": [
    "name = ' Ritz dey '\n",
    "print(name.title())\n",
    "print(name.upper())\n",
    "print(name.lower())\n",
    "print(name.lstrip())\n",
    "print(name.rstrip())\n",
    "print(name.strip())"
   ]
  },
  {
   "cell_type": "code",
   "execution_count": 8,
   "metadata": {},
   "outputs": [
    {
     "name": "stdout",
     "output_type": "stream",
     "text": [
      "12\n",
      "7\n",
      "1.3333333333333333\n",
      "1\n",
      "ab\n",
      "aa\n"
     ]
    }
   ],
   "source": [
    "print(4*3)\n",
    "print(4+3)\n",
    "print(4/3)\n",
    "print(4-3)\n",
    "print('a'+'b')\n",
    "print('a'*2)\n",
    "#print('a'*'b')\n",
    "#print('a'-'b')"
   ]
  },
  {
   "cell_type": "code",
   "execution_count": 9,
   "metadata": {},
   "outputs": [
    {
     "name": "stdout",
     "output_type": "stream",
     "text": [
      "3\n",
      "<class 'int'>\n",
      "go to work\n",
      "<class 'str'>\n"
     ]
    }
   ],
   "source": [
    "a=3\n",
    "print(a)\n",
    "print(type(a))\n",
    "a='go to work'\n",
    "print(a)\n",
    "print(type(a))"
   ]
  },
  {
   "cell_type": "code",
   "execution_count": 10,
   "metadata": {},
   "outputs": [
    {
     "name": "stdout",
     "output_type": "stream",
     "text": [
      "3\n",
      "3.0\n",
      "<class 'int'>\n",
      "<class 'float'>\n",
      "3\n",
      "<class 'str'>\n"
     ]
    }
   ],
   "source": [
    "a='3'\n",
    "print(int(a))\n",
    "print(float(a))\n",
    "print(type(int(a)))\n",
    "print(type(float(a)))\n",
    "a=3\n",
    "print(str(a))\n",
    "print(type(str(a)))"
   ]
  },
  {
   "cell_type": "code",
   "execution_count": 62,
   "metadata": {},
   "outputs": [
    {
     "name": "stdout",
     "output_type": "stream",
     "text": [
      "False\n",
      "False\n",
      "True\n",
      "False\n",
      "True\n",
      "True and True= True\n",
      "True and False= False\n",
      "False and False= False\n",
      "True or True= True\n",
      "True or False= True\n",
      "False or False= False\n"
     ]
    }
   ],
   "source": [
    "x=bool(0)\n",
    "print(x)\n",
    "x=bool(0.0)\n",
    "print(x)\n",
    "x=bool(1)\n",
    "print(x)\n",
    "x=bool('')\n",
    "print(x)\n",
    "x=bool('a')\n",
    "print(x)\n",
    "print(\"True and True=\",True and True)\n",
    "print(\"True and False=\",True and False)\n",
    "print(\"False and False=\",False and False)\n",
    "print(\"True or True=\",True or True)\n",
    "print(\"True or False=\",True or False)\n",
    "print(\"False or False=\",False or False)"
   ]
  },
  {
   "cell_type": "code",
   "execution_count": 12,
   "metadata": {},
   "outputs": [
    {
     "name": "stdout",
     "output_type": "stream",
     "text": [
      "Languages:\n",
      "\t1. Python\n",
      "\t2. C\n"
     ]
    }
   ],
   "source": [
    "# \\t = tab \\n = new line\n",
    "print(\"Languages:\\n\\t1. Python\\n\\t2. C\")"
   ]
  },
  {
   "cell_type": "markdown",
   "metadata": {},
   "source": [
    "# List"
   ]
  },
  {
   "cell_type": "code",
   "execution_count": 63,
   "metadata": {},
   "outputs": [
    {
     "name": "stdout",
     "output_type": "stream",
     "text": [
      "1\n",
      "[6, 'abcd']\n",
      "[6, True, 'A']\n",
      "[1, 'abcd', ['A', 'B', 'C'], 9]\n",
      "[1, 'abcd', ['A', 'B', 'C'], 9, 11]\n",
      "{'A': 1, 'B': 2}\n",
      "[10, 11]\n",
      "[1, 6, 'abcd', True, 2, 3, 9, 10, 11, {'A': 1, 'B': 2}]\n"
     ]
    }
   ],
   "source": [
    "l=[1,6,'abcd', True, ['A','B','C'],'A',9,10,11,{'A':1,'B':2}]\n",
    "print(l[0])\n",
    "print(l[1:3])\n",
    "print(l[1:7:2])\n",
    "print(l[:7:2])\n",
    "print(l[::2])\n",
    "\n",
    "print(l[-1])\n",
    "print(l[-3:-1])\n",
    "\n",
    "l[4:6]=[2,3]\n",
    "print(l)\n",
    "\n",
    "print([5]*4)"
   ]
  },
  {
   "cell_type": "code",
   "execution_count": 14,
   "metadata": {},
   "outputs": [
    {
     "name": "stdout",
     "output_type": "stream",
     "text": [
      "[1, 3.0, 'abcd', True, 2, 3, 9, 10, 11, {'A': 1, 'B': 2}]\n",
      "[1, 3, 'abcd', True, 2, 3, 9, 10, 11, {'A': 1, 'B': 2}]\n",
      "[1, 3, 'abcd', True, 2, 3, 9, 10, 11, {'A': 1, 'B': 2}, 'Adding']\n",
      "[1, 'in the middle', 3, 'abcd', True, 2, 3, 9, 10, 11, {'A': 1, 'B': 2}, 'Adding']\n",
      "[1, 'in the middle', 'abcd', True, 2, 3, 9, 10, 11, {'A': 1, 'B': 2}, 'Adding']\n",
      "3\n",
      "[1, 'abcd', True, 2, 3, 9, 10, 11, {'A': 1, 'B': 2}, 'Adding']\n"
     ]
    }
   ],
   "source": [
    "# changing one element\n",
    "l[1]=6/2\n",
    "print(l)\n",
    "l[1]=int(6/2)\n",
    "print(l)\n",
    "\n",
    "# adding element in the end\n",
    "l.append('Adding')\n",
    "print(l)\n",
    "\n",
    "\n",
    "# adding element in the middle\n",
    "l.insert(1, 'in the middle')\n",
    "print(l)\n",
    "#delete by position\n",
    "popped=l.pop(2)\n",
    "print(l)\n",
    "print(popped)\n",
    "\n",
    "#delete by value\n",
    "l.remove('in the middle')\n",
    "print(l)"
   ]
  },
  {
   "cell_type": "code",
   "execution_count": 64,
   "metadata": {},
   "outputs": [
    {
     "name": "stdout",
     "output_type": "stream",
     "text": [
      "[2, 4, 8, 10]\n",
      "[10, 8, 4, 2]\n",
      "Temporary sort: [2, 4, 8, 10]\n",
      "[10, 8, 4, 2]\n",
      "Reverse: [2, 4, 8, 10]\n",
      "reverse using slicing: [10, 8, 4, 2]\n",
      "length: 4\n",
      "The last element: 10\n"
     ]
    }
   ],
   "source": [
    "#sort parmanently\n",
    "l1=[8,2,10,4]\n",
    "l1.sort()\n",
    "print(l1)\n",
    "\n",
    "l1.sort(reverse=True)\n",
    "print(l1)\n",
    "\n",
    "#sort temporarily\n",
    "print(\"Temporary sort:\", sorted(l1))\n",
    "print(l1)\n",
    "l1.reverse()\n",
    "print(\"Reverse:\", l1)\n",
    "print(\"reverse using slicing:\", l1[::-1])\n",
    "#lenght\n",
    "print(\"length:\",len(l1))\n",
    "#printing the last element using length\n",
    "print(\"The last element:\", l1[len(l1)-1])"
   ]
  },
  {
   "cell_type": "code",
   "execution_count": 16,
   "metadata": {},
   "outputs": [
    {
     "name": "stdout",
     "output_type": "stream",
     "text": [
      "[2, 6, 0, -2, 8, 10]\n",
      "[2, 6, 0, -2, 8, 10]\n",
      "[2, 6, 0, -2, 8, 10, 10]\n",
      "[2, 6, 0, -2, 8, 10]\n"
     ]
    }
   ],
   "source": [
    "l=[2,6,0,-2,8]\n",
    "l_=l\n",
    "l_.append(10)\n",
    "print(l_)\n",
    "print(l)\n",
    "# so l_ is not a new list, just a new reference of the old list\n",
    "l_=l[:] # new list\n",
    "l_.append(10)\n",
    "print(l_)\n",
    "print(l)"
   ]
  },
  {
   "cell_type": "code",
   "execution_count": 67,
   "metadata": {},
   "outputs": [
    {
     "name": "stdout",
     "output_type": "stream",
     "text": [
      "[1, 5, 9, 3]\n",
      "[5, 'B', 'C', 'D']\n",
      "[1, 5, 9, 3, 5, 'B', 'C', 'D']\n",
      "zip=: <zip object at 0x000001D87DEA64C8>\n",
      "{(9, 'C'), (1, 5), (5, 'B'), (3, 'D')}\n",
      "{(1, 5, 'One'), (5, 'B', 'Two')}\n",
      "x = (1, 5)\n",
      "y = (5, 'B')\n",
      "False\n",
      "True\n"
     ]
    }
   ],
   "source": [
    "list1=[1,5,9,3];list2=[5,'B','C','D']\n",
    "print(list1);print(list2)\n",
    "list3=list1+list2\n",
    "print(list3)\n",
    "print(\"zip=:\",zip(list1,list2))\n",
    "list4=zip(list1,list2)\n",
    "print(set(list4))\n",
    "list_n=['One','Two']\n",
    "print(set(zip(list1,list2,list_n)))\n",
    "\n",
    "comb=set(zip(list1,list2,list_n))\n",
    "#unzipping\n",
    "x, y, z =  zip(*comb)\n",
    "print('x =', x)\n",
    "print('y =', y)\n",
    "\n",
    "#Existence\n",
    "print(10 in list1)\n",
    "print(9 in list1)"
   ]
  },
  {
   "cell_type": "code",
   "execution_count": 68,
   "metadata": {},
   "outputs": [
    {
     "name": "stdout",
     "output_type": "stream",
     "text": [
      "[81, 49, 100, 225]\n",
      "[81, 49, 100, 225]\n",
      "['a', 'abc', 'abc']\n"
     ]
    }
   ],
   "source": [
    "# for loop and list\n",
    "first=[9,4,-5,0,7,5,-10,10,15]\n",
    "second=[]\n",
    "for i in first:\n",
    "    if i>5:\n",
    "        second.append(i**2)\n",
    "print(second)\n",
    "\n",
    "#list comprehension\n",
    "# [expression for var in collection if condition]\n",
    "print([i**2 for i in first if i>5])\n",
    "\n",
    "#HW\n",
    "# create a list with strings in mixed cases. create a new list with lower case values. code in 3 differet ways\n",
    "first=['a','abc','ABc']\n",
    "second=[i.lower() for i in first]\n",
    "print(second)"
   ]
  },
  {
   "cell_type": "code",
   "execution_count": 18,
   "metadata": {},
   "outputs": [
    {
     "name": "stdout",
     "output_type": "stream",
     "text": [
      "[1, 25, 4]\n",
      "max: 25\n",
      "sum: 30\n"
     ]
    }
   ],
   "source": [
    "# for loop in lists\n",
    "l=[1,5,2]\n",
    "sq_l=[]\n",
    "for i in l:\n",
    "    sq_l.append(i**2)\n",
    "print(sq_l)\n",
    "print(\"max:\",max(sq_l))\n",
    "print(\"sum:\",sum(sq_l))"
   ]
  },
  {
   "cell_type": "code",
   "execution_count": 19,
   "metadata": {},
   "outputs": [
    {
     "name": "stdout",
     "output_type": "stream",
     "text": [
      "0\n",
      "1\n",
      "2\n",
      "3\n",
      "4\n",
      "Stop\n",
      "1\n",
      "2\n",
      "3\n",
      "Stop\n",
      "1\n",
      "4\n"
     ]
    }
   ],
   "source": [
    "#range star, stop, interval\n",
    "for i in range(5):\n",
    "    print(i)\n",
    "print(\"Stop\")\n",
    "for i in range(1,4):\n",
    "    print(i)\n",
    "print(\"Stop\")\n",
    "for i in range(1,7,3):\n",
    "    print(i)"
   ]
  },
  {
   "cell_type": "code",
   "execution_count": 20,
   "metadata": {},
   "outputs": [
    {
     "name": "stdout",
     "output_type": "stream",
     "text": [
      "5\n",
      "100\n",
      "(5, 100)\n",
      "(1, 5, 2)\n",
      "(5, 'abc', 7)\n",
      "(1, 2, 3, (5, 'abc', 7))\n",
      "1\n",
      "2\n",
      "3\n",
      "(5, 'abc', 7)\n"
     ]
    }
   ],
   "source": [
    "# Mutable and immutable objects\n",
    "# Python tuple - immutable\n",
    "dim=(5,100)\n",
    "print(dim[0])\n",
    "print(dim[1])\n",
    "#dim[1] = 200 # will throw error because tuples are immutable\n",
    "print(dim)\n",
    "# print(list(dim)) #will throw error\n",
    "print(tuple(l))\n",
    "dim1= 5, 'abc', 7\n",
    "print(dim1)\n",
    "dim2=1,2,3,dim1\n",
    "print(dim2)\n",
    "a,b,c,d=dim2\n",
    "print(a);print(b);print(c);print(d)"
   ]
  },
  {
   "cell_type": "code",
   "execution_count": 21,
   "metadata": {},
   "outputs": [
    {
     "name": "stdout",
     "output_type": "stream",
     "text": [
      "x1= 3 x2= 7\n",
      "x1= 7 x2= 3\n"
     ]
    }
   ],
   "source": [
    "x1=3;x2=7;\n",
    "print(\"x1=\",x1,\"x2=\",x2)\n",
    "x1,x2=x2,x1 # They are tuples, we have omitted the brackets\n",
    "print(\"x1=\",x1,\"x2=\",x2)"
   ]
  },
  {
   "cell_type": "code",
   "execution_count": 23,
   "metadata": {},
   "outputs": [
    {
     "name": "stdout",
     "output_type": "stream",
     "text": [
      "[0, 3, 6, 9, 12, 15, 18]\n",
      "0\n",
      "3\n",
      "6\n",
      "12\n",
      "15\n",
      "18\n",
      "0\n",
      "3\n",
      "6\n"
     ]
    }
   ],
   "source": [
    "listn=[i for i in range(0,20,3)]\n",
    "print(listn)\n",
    "for i in listn:\n",
    "    if i==9:\n",
    "        continue\n",
    "    print(i)\n",
    "    \n",
    "for i in listn:\n",
    "    if i==9:\n",
    "        break\n",
    "    print(i)"
   ]
  },
  {
   "cell_type": "code",
   "execution_count": 25,
   "metadata": {},
   "outputs": [
    {
     "name": "stdout",
     "output_type": "stream",
     "text": [
      "250 250\n",
      "250 500\n",
      "250 750\n",
      "250 1000\n",
      "250 1250\n"
     ]
    }
   ],
   "source": [
    "#while loop\n",
    "x=250\n",
    "tot=0\n",
    "while x>0:\n",
    "    if tot>1000:\n",
    "        break\n",
    "    tot+=x\n",
    "    print(x,tot)\n",
    "    #pass \n",
    "# pass command is a placeholder which tells about the point from we can start our next lines of code"
   ]
  },
  {
   "cell_type": "code",
   "execution_count": null,
   "metadata": {
    "collapsed": true
   },
   "outputs": [],
   "source": [
    "x=[[1,2],[7,8,9],[5,6,9]]\n",
    "\n",
    "#all the elements\n",
    "y=[i for j in x for i in j]\n",
    "print(y)\n",
    "\n",
    "z=[]\n",
    "for j in x:\n",
    "    for i in j:\n",
    "        z.append(i)\n",
    "print(z)\n",
    "\n",
    "# all the elements for the lsit of length atleast 3\n",
    "z=[]\n",
    "for i in x:\n",
    "    if len(i)>2:\n",
    "        for j in i:\n",
    "            z.append(j)\n",
    "print(z)\n",
    "\n",
    "y=[j for i in x if len(i)>2 for j in i]\n",
    "print(y)"
   ]
  },
  {
   "cell_type": "code",
   "execution_count": 51,
   "metadata": {
    "scrolled": true
   },
   "outputs": [
    {
     "name": "stdout",
     "output_type": "stream",
     "text": [
      "[('f', 0), ('o', 0), ('o', 0), ('b', 0), ('a', 0), ('r', 0), ('b', 1), ('a', 1), ('z', 1), ('t', 1), ('a', 1), ('z', 1), ('k', 2), ('o', 2), ('k', 2), ('o', 2)]\n",
      "[('F', 0), ('O', 0), ('O', 0), ('B', 0), ('A', 0), ('R', 0), ('B', 1), ('A', 1), ('Z', 1), ('T', 1), ('A', 1), ('Z', 1), ('K', 2), ('O', 2), ('K', 2), ('O', 2)]\n"
     ]
    }
   ],
   "source": [
    "strings = [['foo', 'bar'], ['baz', 'taz'], ['w', 'koko']]\n",
    "\n",
    "z=[]\n",
    "for idx,lst in enumerate(strings):\n",
    "    for word in lst:\n",
    "        if len(word)>2:\n",
    "            for letter in word:\n",
    "                z.append((letter,idx))\n",
    "print(z)\n",
    "print([ (letter.upper(), idx) for idx, lst in enumerate(strings) for word in lst if len(word)>2 for letter in word])"
   ]
  },
  {
   "cell_type": "markdown",
   "metadata": {},
   "source": [
    "# Dictionary"
   ]
  },
  {
   "cell_type": "code",
   "execution_count": 73,
   "metadata": {},
   "outputs": [
    {
     "name": "stdout",
     "output_type": "stream",
     "text": [
      "[5, 6, 7]\n",
      "{'color': 'green', 'point': [5, 6, 7], 'pos': 1}\n",
      "key = color\n",
      "value = green\n",
      "key = point\n",
      "value = [5, 6, 7]\n",
      "key = pos\n",
      "value = 1\n",
      "{'color': 'green', 'point': [5, 6, 7], 'pos': 1}\n",
      "dict_items([('color', 'green'), ('point', [5, 6, 7]), ('pos', 1)])\n",
      "key = color\n",
      "key = point\n",
      "key = pos\n",
      "key = color\n",
      "key = point\n",
      "key = pos\n",
      "key = color value = green\n",
      "key = point value = [5, 6, 7]\n",
      "key = pos value = 1\n"
     ]
    }
   ],
   "source": [
    "alien = {'color': 'green', 'point': [5,6,7]}\n",
    "print(alien['point'])\n",
    "alien['pos']=1\n",
    "print(alien)\n",
    "for key, val in alien.items():\n",
    "    print(\"key =\", key); print(\"value =\",val)\n",
    "print(alien)\n",
    "print(alien.items())\n",
    "for key in alien.keys():\n",
    "    print(\"key =\", key)\n",
    "for key in sorted(alien.keys()):\n",
    "    print(\"key =\", key)\n",
    "#for val in sorted(alien.values()):\n",
    "#   print(\"values =\", val) # All the values need to be string or int. There might be alt way to sort\n",
    "\n",
    "for key,val in sorted(alien.items()):\n",
    "    print(\"key =\", key,\"value =\",val)"
   ]
  },
  {
   "cell_type": "code",
   "execution_count": 14,
   "metadata": {},
   "outputs": [
    {
     "name": "stdout",
     "output_type": "stream",
     "text": [
      "[{'color': 'red', 'point': [7, 7, 7]}, {'color': 'red', 'point': [7, 7, 7]}] \n",
      "\n",
      "[{'color': 'green', 'point': [1, 1, 1]}, {'color': 'green', 'point': [1, 1, 1]}, {'color': 'green', 'point': [1, 1, 1]}, {'color': 'red', 'point': [7, 7, 7]}, {'color': 'red', 'point': [7, 7, 7]}] \n",
      "\n",
      "[{'color': 'red', 'point': [1, 1, 1]}, {'color': 'red', 'point': [1, 1, 1]}, {'color': 'red', 'point': [1, 1, 1]}, {'color': 'red', 'point': [7, 7, 7]}, {'color': 'red', 'point': [7, 7, 7]}]\n"
     ]
    }
   ],
   "source": [
    "all_alien=[]\n",
    "for i in range(5):\n",
    "    n_alien={'color': 'red', 'point': [7,7,7]}\n",
    "    all_alien.append(n_alien)\n",
    "print(all_alien[:2],\"\\n\")\n",
    "#change some of the element\n",
    "for alien in all_alien[:3]:\n",
    "    if alien['color']=='red':\n",
    "        alien['color']='green'\n",
    "        alien['point']=[1,1,1]\n",
    "print(all_alien,'\\n')\n",
    "for no in range(len(all_alien)):\n",
    "    if all_alien[no]['color']=='green':\n",
    "        all_alien[no]['color']='red'\n",
    "        all_alien[no]['point']=[1,1,1]\n",
    "print(all_alien)"
   ]
  },
  {
   "cell_type": "markdown",
   "metadata": {},
   "source": [
    "# Functions"
   ]
  },
  {
   "cell_type": "code",
   "execution_count": 21,
   "metadata": {},
   "outputs": [
    {
     "name": "stdout",
     "output_type": "stream",
     "text": [
      "16\n",
      "25\n",
      "10.5\n",
      "0.5\n",
      "0.2\n",
      "0.2\n",
      "9\n"
     ]
    }
   ],
   "source": [
    "def sq(x):\n",
    "    return x*x\n",
    "print(sq(4))\n",
    "y=sq(5)\n",
    "print(y)\n",
    "\n",
    "def demo_func(x,y,z=1.5):\n",
    "    if z>1:\n",
    "        return z*(x+y)\n",
    "    else:\n",
    "        return z/(x+y)\n",
    "print(demo_func(2,5))\n",
    "print(demo_func(1,1,1))\n",
    "# default args should be after non-default args\n",
    "print(demo_func(2,3,1))\n",
    "print(demo_func(x=2,y=3,z=1))\n",
    "print(demo_func(2,z=3,y=1))\n",
    "#print(demo_func(x=2,3,1)) #SyntaxError: positional argument follows keyword argument\n"
   ]
  },
  {
   "cell_type": "code",
   "execution_count": 30,
   "metadata": {},
   "outputs": [
    {
     "name": "stdout",
     "output_type": "stream",
     "text": [
      "[1, 5]\n",
      "None\n"
     ]
    }
   ],
   "source": [
    "# global variable/namespace , local variable/namespace\n",
    "b=None\n",
    "def gl():\n",
    "    global b\n",
    "    b=[1,5]\n",
    "    return b\n",
    "print(gl())\n",
    "print(b)"
   ]
  },
  {
   "cell_type": "code",
   "execution_count": 32,
   "metadata": {},
   "outputs": [
    {
     "name": "stdout",
     "output_type": "stream",
     "text": [
      "(5, 6) \n",
      " 5 \n",
      " 6\n"
     ]
    }
   ],
   "source": [
    "def gl1():\n",
    "    a=5;b=6;c=7\n",
    "    return a,b\n",
    "x=gl1()\n",
    "y,z=gl1()\n",
    "print(x,\"\\n\",y,\"\\n\",z)"
   ]
  },
  {
   "cell_type": "code",
   "execution_count": 1,
   "metadata": {},
   "outputs": [
    {
     "name": "stdout",
     "output_type": "stream",
     "text": [
      "4\n",
      "4\n",
      "8\n"
     ]
    },
    {
     "data": {
      "text/plain": [
       "'Leonardo Da Vinci'"
      ]
     },
     "execution_count": 1,
     "metadata": {},
     "output_type": "execute_result"
    }
   ],
   "source": [
    "#Anonymous functions==lambda expression\n",
    "def sq(x):\n",
    "    return(x**2)\n",
    "print(sq(2))\n",
    "eqvt=lambda x:x**2\n",
    "print(eqvt(2))\n",
    "another_one = lambda x,y:x+2*y\n",
    "print(another_one(2,3))\n",
    "full = lambda fname, lname: fname.strip().title() +\" \"+lname.strip().title()\n",
    "print(full('leonardo  ','da vinci'))"
   ]
  },
  {
   "cell_type": "code",
   "execution_count": 29,
   "metadata": {},
   "outputs": [
    {
     "name": "stdout",
     "output_type": "stream",
     "text": [
      "Help on built-in function sort:\n",
      "\n",
      "sort(...) method of builtins.list instance\n",
      "    L.sort(key=None, reverse=False) -> None -- stable sort *IN PLACE*\n",
      "\n",
      "[' manik bandopaddhay', ' b b banerjee', 'Sarat chatterjee', 'sanjib chattopaddhay', ' narayan sanyal', 'rabi thakur']\n",
      "['a', 'b', 'c'] \t {'c', 'a', 'b'} \t 3\n",
      "['h', 'g', 'd', 'j'] \t {'j', 'd', 'h', 'g'} \t 4\n",
      "['t', 'r', 'g'] \t {'r', 't', 'g'} \t 3\n",
      "['h', 'd', 'h', 'd'] \t {'d', 'h'} \t 2\n",
      "['hdhd', 'abc', 'trg', 'hgdj']\n"
     ]
    }
   ],
   "source": [
    "authors=['Sarat chatterjee', 'sanjib chattopaddhay', 'rabi thakur', ' narayan sanyal', ' b b banerjee', ' manik bandopaddhay']\n",
    "help(authors.sort)\n",
    "authors.sort(key=lambda name: name.split(\" \")[-1].title())\n",
    "print(authors)\n",
    "\n",
    "words=['abc','hgdj','trg','hdhd']\n",
    "for word in words:\n",
    "    print(list(word),'\\t', set(list(word)),'\\t',len(set(list(word))))\n",
    "words.sort(key=lambda wrd:len(set(list(wrd))))\n",
    "print(words)"
   ]
  },
  {
   "cell_type": "code",
   "execution_count": 14,
   "metadata": {},
   "outputs": [
    {
     "name": "stdout",
     "output_type": "stream",
     "text": [
      "1\n",
      "1\n",
      "3\n",
      "1\n"
     ]
    }
   ],
   "source": [
    "def quad_func(a,b,c):\n",
    "    return lambda x:a*x*x + b*x +c\n",
    "q=quad_func(1,1,1)\n",
    "print(q(0))\n",
    "print(q(-1))\n",
    "print(q(1))\n",
    "#or\n",
    "print(quad_func(1,1,1)(0))"
   ]
  },
  {
   "cell_type": "code",
   "execution_count": 18,
   "metadata": {},
   "outputs": [
    {
     "name": "stdout",
     "output_type": "stream",
     "text": [
      "[1, 4, 9]\n",
      "[1, 4, 9]\n"
     ]
    }
   ],
   "source": [
    "def apply_to_list(some_list,f):\n",
    "    new_list=[]\n",
    "    for i in range(len(some_list)):\n",
    "        new_list.append(f(some_list[i]))\n",
    "    return new_list\n",
    "def func1(x):\n",
    "    return x*x\n",
    "int=[1,2,3]\n",
    "print(apply_to_list(int,func1))\n",
    "print(apply_to_list(int,lambda x:x*x))"
   ]
  },
  {
   "cell_type": "code",
   "execution_count": 49,
   "metadata": {},
   "outputs": [
    {
     "name": "stdout",
     "output_type": "stream",
     "text": [
      "abc\n",
      "['abc', 'abc', 'abc']\n",
      "[<function <listcomp>.<lambda> at 0x0000018D66793EA0>, <function <listcomp>.<lambda> at 0x0000018D6684F598>, <function <listcomp>.<lambda> at 0x0000018D6684FC80>]\n",
      "['abc', 'abc', 'abc']\n",
      "abc k\n",
      "['abc name', 'abc word', 'abc watch']\n",
      "[<function <listcomp>.<lambda> at 0x0000018D6684FEA0>, <function <listcomp>.<lambda> at 0x0000018D6684F0D0>, <function <listcomp>.<lambda> at 0x0000018D6684FE18>]\n",
      "['abc name', 'abc word', 'abc watch']\n",
      "['abc name', 'abc word', 'abc watch'] \n",
      "\n",
      "<function <lambda> at 0x0000018D668A8048>\n",
      "avc\n"
     ]
    }
   ],
   "source": [
    "lst=['name','word','watch']\n",
    "def f():\n",
    "    return 'abc'\n",
    "print(f())\n",
    "print([f() for x in lst])\n",
    "print([lambda x:'abc' for x in lst])\n",
    "print([(lambda x:'abc')(x) for x in lst])\n",
    "\n",
    "def f(x):\n",
    "    return 'abc '+x\n",
    "print(f('k'))\n",
    "print([f(x) for x in lst])\n",
    "print([lambda x:'abc '+x for x in lst])\n",
    "print([(lambda x:'abc '+x)(x) for x in lst])\n",
    "print(['abc '+x for x in lst],\"\\n\")\n",
    "\n",
    "print(lambda x:'avc') #returns a function\n",
    "print((lambda x:'avc')(0)) #returns a value"
   ]
  },
  {
   "cell_type": "code",
   "execution_count": 51,
   "metadata": {},
   "outputs": [
    {
     "name": "stdout",
     "output_type": "stream",
     "text": [
      "[100, 7, 9, 0]\n",
      "[100, 7, 9, 0]\n",
      "[100, 5, 5, 5]\n",
      "[5, 5, 5, 5]\n"
     ]
    }
   ],
   "source": [
    "#preventing a funcion from modifying a list\n",
    "lst=[2,7,9,0]\n",
    "def func(list1):\n",
    "    list1[0]=100\n",
    "    return list1\n",
    "print(func(lst))\n",
    "print(lst)\n",
    "\n",
    "lst=[5,5,5,5]\n",
    "def func(list1):\n",
    "    list1[0]=100\n",
    "    return list1\n",
    "print(func(lst[:]))\n",
    "print(lst)"
   ]
  },
  {
   "cell_type": "code",
   "execution_count": 8,
   "metadata": {},
   "outputs": [
    {
     "name": "stdout",
     "output_type": "stream",
     "text": [
      "hero\n",
      "('hero', 'honda')\n"
     ]
    }
   ],
   "source": [
    "# passing arbitrary no of arguements in a function\n",
    "def fo(x):\n",
    "    print(x)\n",
    "def fo1(*x):\n",
    "    print(x)\n",
    "\n",
    "fo('hero')\n",
    "fo1('hero','honda')\n",
    "#print(fo('hero','honda')) # causes error"
   ]
  },
  {
   "cell_type": "code",
   "execution_count": 12,
   "metadata": {},
   "outputs": [
    {
     "name": "stdout",
     "output_type": "stream",
     "text": [
      "4\n",
      "5\n",
      "6\n",
      "10\n",
      "\n",
      "\n",
      "[4, 5, 6, 10]\n",
      "\n",
      "\n",
      "4\n",
      "5\n",
      "6\n",
      "10\n"
     ]
    }
   ],
   "source": [
    "temp=[4,5,6,10]\n",
    "def fo(x):\n",
    "    for i in x:\n",
    "        print(i)\n",
    "def fo1(*x):\n",
    "    for i in x:\n",
    "        print(i)\n",
    "\n",
    "fo(temp)\n",
    "print(\"\\n\")\n",
    "fo1(temp)\n",
    "print(\"\\n\")\n",
    "fo1(4,5,6,10)"
   ]
  },
  {
   "cell_type": "code",
   "execution_count": 25,
   "metadata": {},
   "outputs": [
    {
     "name": "stdout",
     "output_type": "stream",
     "text": [
      "<map object at 0x000001F134921A20>\n",
      "[1, 4, 9]\n"
     ]
    }
   ],
   "source": [
    "#Map function\n",
    "#map(function,list)\n",
    "def sq(x):\n",
    "    return x*x\n",
    "z=[1,2,3]\n",
    "print(map(sq,z))\n",
    "print(list(map(sq,z)))\n"
   ]
  },
  {
   "cell_type": "code",
   "execution_count": 45,
   "metadata": {},
   "outputs": [
    {
     "name": "stdout",
     "output_type": "stream",
     "text": [
      "[1, 4, 9]\n",
      "[4, 9, 16]\n",
      "[9, 16, 25]\n",
      "[16, 25, 36]\n",
      "[25, 36, 49]\n",
      "[36, 49, 64]\n"
     ]
    }
   ],
   "source": [
    "#1 for loop\n",
    "x=[1,2,3]\n",
    "y=[]\n",
    "for i in x:\n",
    "    y.append(i**2)\n",
    "print(y)\n",
    "#2 for loop in function\n",
    "x=[2,3,4]\n",
    "def sq(z):\n",
    "    y=[]\n",
    "    for i in z:\n",
    "        y.append(i**2)\n",
    "    return y\n",
    "print(sq(x))\n",
    "#3 list comprehension\n",
    "x=[3,4,5]\n",
    "def sq(z):\n",
    "    y=[i**2 for i in z]\n",
    "    return y\n",
    "print(sq(x))\n",
    "#4 lambda function\n",
    "x=[4,5,6]\n",
    "print([(lambda sq:sq**2)(sq) for sq in x])\n",
    "#5 map function\n",
    "x=[5,6,7]\n",
    "def sq(x):\n",
    "    return x**2\n",
    "print(list(map(sq,x)))\n",
    "#6 Map and lambda function\n",
    "x=[6,7,8]\n",
    "print(list(map(lambda z:z**2,x)))"
   ]
  },
  {
   "cell_type": "code",
   "execution_count": 46,
   "metadata": {},
   "outputs": [
    {
     "name": "stdout",
     "output_type": "stream",
     "text": [
      "[3, 8, 15]\n"
     ]
    }
   ],
   "source": [
    "# more than one list\n",
    "l1=[1,2,3]\n",
    "l2=[3,4,5]\n",
    "print(list(map(lambda x,y:x*y,l1,l2)))"
   ]
  },
  {
   "cell_type": "code",
   "execution_count": 51,
   "metadata": {},
   "outputs": [
    {
     "name": "stdout",
     "output_type": "stream",
     "text": [
      "[-7, 1, 34, -9, 20, 22]\n",
      "[True, True, True, True, True, True, False, False]\n",
      "[1, 34, 20, 22]\n",
      "[None, True, True, None, True, True, None, None]\n",
      "[False, True, True, False, True, True, False, False]\n"
     ]
    }
   ],
   "source": [
    "#filtering a list\n",
    "# filter(function name, sequence name)\n",
    "# function name should return a boolean\n",
    "z=[-7,1,34,-9,20,22,-90,-13]\n",
    "print(list(filter(lambda x:x>-10,z)))\n",
    "print(list(map(lambda x:x>-10,z)))\n",
    "def func(x):\n",
    "    if x>0:\n",
    "        return True\n",
    "print(list(filter(func,z)))\n",
    "print(list(map(func,z)))\n",
    "def func(x):\n",
    "    if x>0:\n",
    "        return True\n",
    "    return False\n",
    "print(list(map(func,z)))"
   ]
  },
  {
   "cell_type": "code",
   "execution_count": 63,
   "metadata": {},
   "outputs": [
    {
     "name": "stdout",
     "output_type": "stream",
     "text": [
      "28\n",
      "12\n",
      "172.79999999999998\n"
     ]
    }
   ],
   "source": [
    "#reduce a list\n",
    "#reduce(function name, sequence name)\n",
    "#applied incrementally by reducing the list\n",
    "from functools import reduce\n",
    "l=[1,6,9,12]\n",
    "print(reduce(lambda x,y:x+y,l))\n",
    "\n",
    "def max(x,y):\n",
    "    if x>y:\n",
    "        return x\n",
    "    else:\n",
    "        return y\n",
    "print(reduce(max,l))\n",
    "#calculate ci\n",
    "list=[100,20,20]\n",
    "print(reduce(lambda x,y:x*(1+y/100),list))"
   ]
  },
  {
   "cell_type": "code",
   "execution_count": 5,
   "metadata": {},
   "outputs": [
    {
     "name": "stdout",
     "output_type": "stream",
     "text": [
      "120\n",
      "1\n",
      "1\n",
      "0\n",
      "1\n",
      "1\n",
      "2\n",
      "3\n"
     ]
    }
   ],
   "source": [
    "# recursion\n",
    "def fact(n):\n",
    "    if n in (0,1):\n",
    "        return 1\n",
    "    else:\n",
    "        return n*fact(n-1)\n",
    "print(fact(5))\n",
    "\n",
    "\n",
    "def p(x):\n",
    "    return print(x)\n",
    "\n",
    "p(fact(0))\n",
    "p(fact(1))\n",
    "\n",
    "def fib(n):\n",
    "    if n==0:return 0\n",
    "    elif n==1: return 1\n",
    "    else: return fib(n-1)+fib(n-2)\n",
    "\n",
    "p(fib(0))\n",
    "p(fib(1))\n",
    "p(fib(2))\n",
    "p(fib(3))\n",
    "p(fib(4))"
   ]
  },
  {
   "cell_type": "code",
   "execution_count": 6,
   "metadata": {},
   "outputs": [
    {
     "name": "stdout",
     "output_type": "stream",
     "text": [
      "0\n",
      "1\n",
      "1\n",
      "2\n",
      "3\n"
     ]
    }
   ],
   "source": [
    "# faster version\n",
    "def fib1(n):\n",
    "    a,b=0,1\n",
    "    for i in range(n):\n",
    "        a,b=b,a+b\n",
    "    return a\n",
    "p(fib1(0))\n",
    "p(fib1(1))\n",
    "p(fib1(2))\n",
    "p(fib1(3))\n",
    "p(fib1(4))\n",
    "#a=0,b=1\n",
    "#a=1,b=0+1=1\n",
    "#a=1,b=1+1=2\n",
    "#a=2,b=1+2=3\n",
    "#a=3,b=2+3=5"
   ]
  },
  {
   "cell_type": "code",
   "execution_count": 7,
   "metadata": {},
   "outputs": [
    {
     "name": "stdout",
     "output_type": "stream",
     "text": [
      "1.0858869083810667\n",
      "0.00014208454670594506\n"
     ]
    }
   ],
   "source": [
    "#import timeit\n",
    "start = timeit.default_timer()\n",
    "fib(30)\n",
    "stop = timeit.default_timer()\n",
    "print(stop-start)\n",
    "start = timeit.default_timer()\n",
    "fib1(30)\n",
    "stop = timeit.default_timer()\n",
    "print(stop-start)"
   ]
  },
  {
   "cell_type": "code",
   "execution_count": 8,
   "metadata": {},
   "outputs": [
    {
     "name": "stdout",
     "output_type": "stream",
     "text": [
      "11.809767352555284\n",
      "0.00015360491535432175\n"
     ]
    }
   ],
   "source": [
    "def timestart():\n",
    "    global start\n",
    "    start=timeit.default_timer()\n",
    "    return start\n",
    "def timestop():\n",
    "    return print(timeit.default_timer()-start)\n",
    "\n",
    "timestart()\n",
    "fib(35)\n",
    "timestop()\n",
    "\n",
    "timestart()\n",
    "fib1(35)\n",
    "timestop()"
   ]
  },
  {
   "cell_type": "code",
   "execution_count": 12,
   "metadata": {},
   "outputs": [
    {
     "name": "stdout",
     "output_type": "stream",
     "text": [
      "0.008692118147777705\n",
      "0.00015040481294192887\n",
      "0.00015040481295613972\n",
      "0.00018176581650664048\n",
      "\n",
      "\n",
      "0.0010240327690524964\n",
      "0.0019443822202305228\n",
      "0.0066408525072887414\n",
      "\n",
      "\n",
      "0.32467022944733515\n",
      "1.0617946174277648\n"
     ]
    }
   ],
   "source": [
    "def fib2(n):\n",
    "    fibs = [0, 1]\n",
    "    for i in range(2, n+1):\n",
    "        fibs.append(fibs[-1] + fibs[-2])\n",
    "    return fibs\n",
    "# Memoization (relatively advanced technique)\n",
    "def fib3(n, computed = {0: 0, 1: 1}):\n",
    "    if n not in computed:\n",
    "        computed[n] = fib3(n-1, computed) + fib3(n-2, computed)\n",
    "    return computed[n]\n",
    "\n",
    "# comparsion\n",
    "timestart()\n",
    "fib(20)\n",
    "timestop()\n",
    "\n",
    "timestart()\n",
    "fib1(35)\n",
    "timestop()\n",
    "\n",
    "timestart()\n",
    "fib2(35)\n",
    "timestop()\n",
    "\n",
    "timestart()\n",
    "fib3(35)\n",
    "timestop()\n",
    "print(\"\\n\")\n",
    "#Checking with last 3\n",
    "k=2000\n",
    "timestart()\n",
    "fib1(k)\n",
    "timestop()\n",
    "timestart()\n",
    "fib2(k)\n",
    "timestop()\n",
    "timestart()\n",
    "fib3(k)\n",
    "timestop()\n",
    "print(\"\\n\")\n",
    "#Checking with 2\n",
    "k=100000\n",
    "timestart()\n",
    "fib1(k)\n",
    "timestop()\n",
    "timestart()\n",
    "fib2(k)\n",
    "timestop()"
   ]
  },
  {
   "cell_type": "code",
   "execution_count": 16,
   "metadata": {},
   "outputs": [
    {
     "name": "stdout",
     "output_type": "stream",
     "text": [
      "{1, 2, 3, 4, 10}\n",
      "{2, 3, 4, 10}\n",
      "{1, 2, 3, 4, 10}\n"
     ]
    }
   ],
   "source": [
    "#sets\n",
    "l=[1,1,1,2,3,4,4,10]\n",
    "print(set(l))\n",
    "k=set(l)\n",
    "k.discard(1)\n",
    "print(k)\n",
    "k.add(1)\n",
    "print(k)"
   ]
  },
  {
   "cell_type": "code",
   "execution_count": 20,
   "metadata": {},
   "outputs": [
    {
     "name": "stdout",
     "output_type": "stream",
     "text": [
      "{1, 2, 3, 4, 5, 6}\n",
      "{1, 2, 3, 4, 5, 6}\n",
      "{2, 3}\n"
     ]
    }
   ],
   "source": [
    "s1={1,2,3}\n",
    "s2={2,3,4,5,6}\n",
    "print(s1|s2)\n",
    "print(s1.union(s2))\n",
    "print(s1.intersection(s2))"
   ]
  },
  {
   "cell_type": "code",
   "execution_count": 22,
   "metadata": {},
   "outputs": [
    {
     "name": "stdout",
     "output_type": "stream",
     "text": [
      "Enter anything here:5.0\n",
      "Here is the output = 5.05.0\n",
      "Here is the output = 10.0\n"
     ]
    }
   ],
   "source": [
    "#keyboard input\n",
    "x=input(\"Enter anything here:\")\n",
    "print(\"Here is the output =\",2*x)\n",
    "print(\"Here is the output =\",2*float(x))"
   ]
  },
  {
   "cell_type": "code",
   "execution_count": 2,
   "metadata": {},
   "outputs": [
    {
     "name": "stdout",
     "output_type": "stream",
     "text": [
      "<class 'list'>\n",
      "\n",
      " [1 2 3 6]\n",
      "<class 'numpy.ndarray'>\n",
      "\n",
      " [list([1, 2, 3, 6]) list([1, 7, 84])]\n",
      "<class 'numpy.ndarray'> \t 1 \t (2,) \t object\n"
     ]
    }
   ],
   "source": [
    "#Python libraries\n",
    "import numpy as np\n",
    "\n",
    "data1=[1,2,3,6]\n",
    "print(type(data1))\n",
    "arr1=np.array(data1)\n",
    "print(\"\\n\",arr1)\n",
    "print(type(arr1))\n",
    "\n",
    "data2=[[1,2,3,6],[1,7,84]]\n",
    "arr2=np.array(data2)\n",
    "print(\"\\n\",arr2)\n",
    "print(type(arr2),\"\\t\",arr2.ndim,\"\\t\",arr2.shape,'\\t',arr2.dtype)"
   ]
  },
  {
   "cell_type": "code",
   "execution_count": 36,
   "metadata": {},
   "outputs": [
    {
     "name": "stdout",
     "output_type": "stream",
     "text": [
      "\n",
      " [[ 1  2  3  6]\n",
      " [ 1  7 84  7]]\n",
      "<class 'numpy.ndarray'> \t 2 \t (2, 4) \t int32\n"
     ]
    }
   ],
   "source": [
    "data2=[[1,2,3,6],[1,7,84,7]] # balanced row columnb\n",
    "arr2=np.array(data2)\n",
    "print(\"\\n\",arr2)\n",
    "print(type(arr2),\"\\t\",arr2.ndim,\"\\t\",arr2.shape,'\\t',arr2.dtype)"
   ]
  },
  {
   "cell_type": "code",
   "execution_count": 37,
   "metadata": {
    "scrolled": true
   },
   "outputs": [
    {
     "name": "stdout",
     "output_type": "stream",
     "text": [
      "\n",
      " [[  1.   2.   3.   6.]\n",
      " [  1.   7.  84.   7.]]\n",
      "<class 'numpy.ndarray'> \t 2 \t (2, 4) \t float64\n",
      "\n",
      " [['1' '2' '3' '6']\n",
      " ['1' '7' 'abc' '7.0']]\n",
      "<class 'numpy.ndarray'> \t 2 \t (2, 4) \t <U11\n"
     ]
    }
   ],
   "source": [
    "data2=[[1,2,3,6],[1,7,84,7.0]] # balanced row columnb\n",
    "arr2=np.array(data2)\n",
    "print(\"\\n\",arr2)\n",
    "print(type(arr2),\"\\t\",arr2.ndim,\"\\t\",arr2.shape,'\\t',arr2.dtype)\n",
    "data2=[[1,2,3,6],[1,7,'abc',7.0]] # balanced row columnb\n",
    "arr2=np.array(data2)\n",
    "print(\"\\n\",arr2)\n",
    "print(type(arr2),\"\\t\",arr2.ndim,\"\\t\",arr2.shape,'\\t',arr2.dtype)"
   ]
  },
  {
   "cell_type": "code",
   "execution_count": 49,
   "metadata": {},
   "outputs": [
    {
     "name": "stdout",
     "output_type": "stream",
     "text": [
      "[ 0.  0.  0.  0.  0.  0.]\n",
      "[[ 0.  0.  0.]\n",
      " [ 0.  0.  0.]]\n",
      "[[[  2.44001263e-152   1.44507325e+246   2.32530380e+251   2.61697807e+180]\n",
      "  [  9.74651504e+199   5.27196641e+199   8.72441409e+252   1.12314640e+219]\n",
      "  [  1.57434286e+161   3.81391467e+180   7.35874515e+223   6.43239166e+246]]\n",
      "\n",
      " [[  8.72441596e+252   9.62837851e+199   1.81788002e+185   1.12318896e+219]\n",
      "  [  1.17008464e+166   8.72441409e+252   1.12314640e+219   1.57434286e+161]\n",
      "  [  3.81391467e+180   7.35874515e+223   6.43239166e+246   8.79670603e-313]]]\n",
      "[0 1 2 3 4]\n",
      "[['1' '1' '1' '1']\n",
      " ['1' '1' '1' '1']]\n",
      "float64\n"
     ]
    }
   ],
   "source": [
    "print(np.zeros(6))\n",
    "print(np.zeros((2,3)))\n",
    "print(np.empty((2,3,4)))\n",
    "print(np.arange(5)) # observe that they are not comma separated\n",
    "print(np.ones_like(arr2))\n",
    "arr3=np.array([1,2,4],dtype=np.float64)\n",
    "print(arr3.dtype)"
   ]
  },
  {
   "cell_type": "code",
   "execution_count": 52,
   "metadata": {
    "scrolled": true
   },
   "outputs": [
    {
     "name": "stdout",
     "output_type": "stream",
     "text": [
      "[[ 1  4  9]\n",
      " [16 25 36]]\n",
      "[[0 0 0]\n",
      " [0 0 0]]\n",
      "[[ 0.5  1.   1.5]\n",
      " [ 2.   2.5  3. ]]\n"
     ]
    }
   ],
   "source": [
    "arr=np.array([[1,2,3],[4,5,6]])\n",
    "# vectorized operatins hence faster than normal for loop\n",
    "print(arr*arr)\n",
    "print(arr-arr)\n",
    "print(arr/2)"
   ]
  },
  {
   "cell_type": "code",
   "execution_count": 5,
   "metadata": {},
   "outputs": [
    {
     "name": "stdout",
     "output_type": "stream",
     "text": [
      "[0 1 2 3 4 5 6 7 8 9] \t 0 \t [4 5 6]\n",
      "[ 0  1 10 10 10  5  6  7  8  9]\n",
      "[[1 2 3]\n",
      " [4 5 6]] \n",
      " [4 5 6] \n",
      " 6 \t 6\n"
     ]
    }
   ],
   "source": [
    "l=np.arange(10)\n",
    "print(l,'\\t',l[0],'\\t',l[4:7])\n",
    "l[2:5]=[10,10,10]\n",
    "print(l)\n",
    "\n",
    "l=np.array([[1,2,3],[4,5,6]])\n",
    "print(l,'\\n',l[1],'\\n',l[1][2],'\\t',l[1,2])"
   ]
  },
  {
   "cell_type": "code",
   "execution_count": 19,
   "metadata": {},
   "outputs": [
    {
     "name": "stdout",
     "output_type": "stream",
     "text": [
      "[ True False False False False]\n",
      "[[ 1.3315865   0.71527897 -1.54540029]\n",
      " [-0.00838385  0.62133597 -0.72008556]\n",
      " [ 0.26551159  0.10854853  0.00429143]\n",
      " [-0.17460021  0.43302619  1.20303737]\n",
      " [-0.96506567  1.02827408  0.22863013]]\n",
      "davids - [[-0.00838385  0.62133597 -0.72008556]]\n",
      "davids - [[ 0.62133597 -0.72008556]]\n",
      "data<0 [-1.54540029 -0.00838385 -0.72008556 -0.17460021 -0.96506567]\n"
     ]
    }
   ],
   "source": [
    "np.random.seed(10)\n",
    "names=np.array(['bob','david','dickson','robert','joe'])\n",
    "print(names=='bob')\n",
    "data=np.random.randn(5,3)\n",
    "print(data)\n",
    "print('davids -',data[names=='david'])\n",
    "print('davids -',data[names=='david',1:])\n",
    "print('data<0',data[data<0])"
   ]
  },
  {
   "cell_type": "code",
   "execution_count": 33,
   "metadata": {},
   "outputs": [
    {
     "name": "stdout",
     "output_type": "stream",
     "text": [
      "[[ 0.  1.  2.  3.]\n",
      " [ 4.  0.  1.  2.]\n",
      " [ 3.  4.  0.  1.]\n",
      " [ 2.  3.  4.  0.]\n",
      " [ 1.  2.  3.  4.]]\n",
      "[[ 0.  0.  0.  0.]\n",
      " [ 1.  1.  1.  1.]\n",
      " [ 2.  2.  2.  2.]\n",
      " [ 3.  3.  3.  3.]\n",
      " [ 4.  4.  4.  4.]]\n",
      "[[ 1.  1.  1.  1.]\n",
      " [ 3.  3.  3.  3.]]\n",
      "[[ 0.  1.  2.  3.  4.]\n",
      " [ 0.  1.  2.  3.  4.]\n",
      " [ 0.  1.  2.  3.  4.]\n",
      " [ 0.  1.  2.  3.  4.]]\n",
      "[[  0.   0.   0.   0.   0.]\n",
      " [  0.   4.   8.  12.  16.]\n",
      " [  0.   8.  16.  24.  32.]\n",
      " [  0.  12.  24.  36.  48.]\n",
      " [  0.  16.  32.  48.  64.]]\n"
     ]
    }
   ],
   "source": [
    "arr=np.empty((5,4))\n",
    "print(arr)\n",
    "for i in range(5):\n",
    "    arr[i]=int(i)\n",
    "print(arr)\n",
    "print(arr[[1,3]])\n",
    "print(arr.T)\n",
    "print(np.dot(arr,arr.T))"
   ]
  },
  {
   "cell_type": "code",
   "execution_count": 35,
   "metadata": {},
   "outputs": [
    {
     "name": "stdout",
     "output_type": "stream",
     "text": [
      "14\n"
     ]
    }
   ],
   "source": [
    "vect1=np.array([2,3,4,5])\n",
    "vect2=np.array([1,1,1,1])\n",
    "print(np.dot(vect1,vect2))"
   ]
  }
 ],
 "metadata": {
  "kernelspec": {
   "display_name": "Python 3",
   "language": "python",
   "name": "python3"
  },
  "language_info": {
   "codemirror_mode": {
    "name": "ipython",
    "version": 3
   },
   "file_extension": ".py",
   "mimetype": "text/x-python",
   "name": "python",
   "nbconvert_exporter": "python",
   "pygments_lexer": "ipython3",
   "version": "3.6.3"
  }
 },
 "nbformat": 4,
 "nbformat_minor": 2
}
